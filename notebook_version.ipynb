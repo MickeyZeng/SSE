{
 "cells": [
  {
   "cell_type": "markdown",
   "metadata": {},
   "source": [
    "\n"
   ]
  },
  {
   "cell_type": "markdown",
   "metadata": {},
   "source": [
    "# Load libraries"
   ]
  },
  {
   "cell_type": "code",
   "execution_count": 1,
   "metadata": {},
   "outputs": [],
   "source": [
    "import numpy as np\n",
    "import pandas as pd\n",
    "import os\n",
    "\n",
    "# Specify git executable file for GitPython in Jupyter Notebook (In IDE, it can still work without this line.)\n",
    "os.environ[\"GIT_PYTHON_GIT_EXECUTABLE\"] = \"C:\\Program Files\\Git\\cmd\\git.exe\"\n",
    "\n",
    "import git\n",
    "from git import RemoteProgress\n",
    "\n",
    "from git import Repo\n",
    "import matplotlib.pyplot as plt\n",
    "import seaborn as sns\n",
    "import re\n",
    "%matplotlib inline"
   ]
  },
  {
   "cell_type": "markdown",
   "metadata": {},
   "source": [
    "# Clone repo from GitHub"
   ]
  },
  {
   "cell_type": "markdown",
   "metadata": {},
   "source": [
    "Link: https://git-scm.com/docs/git-clone <br>\n",
    "<b>Note:</b> In case too-long file path issue occurs in Windows, set <code>git config --system core.longpaths true</code>"
   ]
  },
  {
   "cell_type": "code",
   "execution_count": 2,
   "metadata": {},
   "outputs": [],
   "source": [
    "class Progress(RemoteProgress):\n",
    "    def update(self, op_code, cur_count, max_count=None, message=''):\n",
    "        print(self._cur_line)"
   ]
  },
  {
   "cell_type": "code",
   "execution_count": 3,
   "metadata": {},
   "outputs": [],
   "source": [
    "remote_link = \"https://github.com/spring-projects/spring-framework\"\n",
    "local_link = \"spring-framework\"\n",
    "# Uncomment to clone\n",
    "# Repo.clone_from(remote_link, local_link, progress=Progress())"
   ]
  },
  {
   "cell_type": "code",
   "execution_count": 4,
   "metadata": {},
   "outputs": [],
   "source": [
    "repo = Repo(local_link)\n",
    "fixing_commit = \"246a6db1cad205ca9b6fca00c544ab7443ba202\"\n",
    "previous = fixing_commit + '^'\n",
    "affected_file = \"MappingJackson2HttpMessageConverter.java\""
   ]
  },
  {
   "cell_type": "markdown",
   "metadata": {},
   "source": [
    "# Question a: show commit title and commit msg"
   ]
  },
  {
   "cell_type": "code",
   "execution_count": 6,
   "metadata": {},
   "outputs": [
    {
     "name": "stdout",
     "output_type": "stream",
     "text": [
      "Selector header name is exposed for configuration\n",
      "\n",
      "Issue: SPR-16732\n"
     ]
    }
   ],
   "source": [
    "show_data = repo.git.log(\"--format=%B\", \"-n\", \"1\",fixing_commit).splitlines()\n",
    "\n",
    "for line in show_data:\n",
    "    print(line)"
   ]
  },
  {
   "cell_type": "markdown",
   "metadata": {},
   "source": [
    "# Question b: Show all affected files"
   ]
  },
  {
   "cell_type": "code",
   "execution_count": 7,
   "metadata": {},
   "outputs": [
    {
     "name": "stdout",
     "output_type": "stream",
     "text": [
      "8\n"
     ]
    }
   ],
   "source": [
    " affected_file = repo.git.diff( \"--name-only\", fixing_commit, previous).splitlines()\n",
    "\n",
    "# for line in affected_file:\n",
    "print(len(affected_file))"
   ]
  },
  {
   "cell_type": "markdown",
   "metadata": {},
   "source": [
    "# Question c: show all directories are affected"
   ]
  },
  {
   "cell_type": "code",
   "execution_count": 8,
   "metadata": {},
   "outputs": [
    {
     "name": "stdout",
     "output_type": "stream",
     "text": [
      "7\n"
     ]
    }
   ],
   "source": [
    "affected_directories = repo.git.diff(\"--dirstat\", fixing_commit, previous).splitlines()\n",
    "\n",
    "print(len(affected_directories))"
   ]
  },
  {
   "cell_type": "markdown",
   "metadata": {},
   "source": [
    "# Question d: How many lines were deleted?"
   ]
  },
  {
   "cell_type": "code",
   "execution_count": 18,
   "metadata": {},
   "outputs": [
    {
     "name": "stdout",
     "output_type": "stream",
     "text": [
      "Lines deleted: 34\n"
     ]
    }
   ],
   "source": [
    "sum_delete = 0;\n",
    "# print(previous)\n",
    "deleted_lines = repo.git.diff(previous, fixing_commit).splitlines()\n",
    "rule = re.compile('^-$|^-[^-]')\n",
    "\n",
    "for line in deleted_lines:\n",
    "    if rule.match(line):\n",
    "        sum_delete = sum_delete + 1\n",
    "\n",
    "            \n",
    "print(\"Lines deleted: %d\" %sum_delete)\n",
    "\n",
    "#     print(line)"
   ]
  },
  {
   "cell_type": "markdown",
   "metadata": {},
   "source": [
    "# Question e: How many lines were added?"
   ]
  },
  {
   "cell_type": "code",
   "execution_count": 10,
   "metadata": {},
   "outputs": [
    {
     "name": "stdout",
     "output_type": "stream",
     "text": [
      "Lines added: 144\n"
     ]
    }
   ],
   "source": [
    "sum_add = 0;\n",
    "# print(previous)\n",
    "add_lines = repo.git.diff(previous, fixing_commit).splitlines()\n",
    "rule = re.compile('^\\+$|^\\+[^\\+]')\n",
    "\n",
    "for line in deleted_lines:\n",
    "        if rule.match(line):\n",
    "            sum_add += 1\n",
    "            \n",
    "print(\"Lines added: %d\" %sum_add)\n"
   ]
  },
  {
   "cell_type": "markdown",
   "metadata": {},
   "source": [
    "# Question f: How many lines were deleted (Excluding blank line & comment)"
   ]
  },
  {
   "cell_type": "code",
   "execution_count": 11,
   "metadata": {},
   "outputs": [
    {
     "name": "stdout",
     "output_type": "stream",
     "text": [
      "Lines added: 22\n"
     ]
    }
   ],
   "source": [
    "sum_deleted_without = 0;\n",
    "# print(previous)\n",
    "delete_lines = repo.git.diff(\"--ignore-blank-lines\",previous, fixing_commit).splitlines()\n",
    "rule = re.compile('^-$|^-[^-]')\n",
    "rule1 = re.compile('^[-|\\+]\\s*\\*')\n",
    "rule2 = re.compile('^[-|\\+]\\s*\\/\\/')\n",
    "\n",
    "for line in deleted_lines:\n",
    "        if rule.match(line):\n",
    "            sum_deleted_without += 1\n",
    "            if rule1.match(line) or rule2.match(line):\n",
    "                sum_deleted_without -= 1\n",
    "            \n",
    "print(\"Lines added: %d\" %sum_deleted_without)"
   ]
  },
  {
   "cell_type": "markdown",
   "metadata": {},
   "source": [
    "# Question g: How many lines were added (Excluding blank line & comment)"
   ]
  },
  {
   "cell_type": "code",
   "execution_count": 12,
   "metadata": {},
   "outputs": [
    {
     "name": "stdout",
     "output_type": "stream",
     "text": [
      "Lines added: 100\n"
     ]
    }
   ],
   "source": [
    "sum_added_without = 0;\n",
    "# print(previous)\n",
    "add_lines = repo.git.diff(\"--ignore-blank-lines\",previous, fixing_commit).splitlines()\n",
    "rule = re.compile('^\\+$|^\\+[^\\+]')\n",
    "rule1 = re.compile('^[-|\\+]\\s*\\*')\n",
    "rule2 = re.compile('^[-|\\+]\\s*\\/\\/')\n",
    "\n",
    "for line in add_lines:\n",
    "        if rule.match(line):\n",
    "            sum_added_without += 1\n",
    "            if rule1.match(line) or rule2.match(line):\n",
    "                sum_added_without -= 1\n",
    "            \n",
    "print(\"Lines added: %d\" %sum_added_without)"
   ]
  },
  {
   "cell_type": "markdown",
   "metadata": {},
   "source": [
    "# Question h: How many days were between the current fixing commit and the previous commit of each affected file"
   ]
  },
  {
   "cell_type": "code",
   "execution_count": 13,
   "metadata": {},
   "outputs": [
    {
     "name": "stdout",
     "output_type": "stream",
     "text": [
      "spring-messaging/src/main/java/org/springframework/messaging/simp/broker/DefaultSubscriptionRegistry.java \t76.3\n",
      "spring-messaging/src/main/java/org/springframework/messaging/simp/broker/SimpleBrokerMessageHandler.java \t67.0\n",
      "spring-messaging/src/main/java/org/springframework/messaging/simp/config/SimpleBrokerRegistration.java \t339.0\n",
      "spring-messaging/src/test/java/org/springframework/messaging/simp/broker/DefaultSubscriptionRegistryTests.java \t85.4\n",
      "spring-websocket/src/main/java/org/springframework/web/socket/config/MessageBrokerBeanDefinitionParser.java \t110.4\n",
      "spring-websocket/src/main/resources/org/springframework/web/socket/config/spring-websocket-4.3.xsd \t77.5\n",
      "spring-websocket/src/test/java/org/springframework/web/socket/config/MessageBrokerBeanDefinitionParserTests.java \t85.4\n",
      "spring-websocket/src/test/resources/org/springframework/web/socket/config/websocket-config-broker-simple.xml \t111.8\n",
      "119.1\n"
     ]
    }
   ],
   "source": [
    "time_different = 0\n",
    "sum = 0\n",
    "count = 0\n",
    "for line in repo.git.diff(\"--name-only\", fixing_commit, previous).splitlines():\n",
    "    creation = repo.git.log(\"-2\", \"--pretty=%ct\",\"--\", line).splitlines();\n",
    "    if len(creation) == 2:\n",
    "        count += 1;\n",
    "        time_different = ((float(creation[0]) - float(creation[1])) / 86400)\n",
    "        sum = sum + time_different\n",
    "        print(\"%s \\t%.1f\"%(line,((float(creation[0]) - float(creation[1])) / 86400)))\n",
    "    else:\n",
    "        print(\"%s is New file\" %line)\n",
    "\n",
    "avg = sum / count\n",
    "print(\"%.1f\" %avg)"
   ]
  },
  {
   "cell_type": "markdown",
   "metadata": {},
   "source": [
    "# Question i: How many times has each affected file of the current fixing commit been modified in the past since their creation (including rename of the file)?"
   ]
  },
  {
   "cell_type": "code",
   "execution_count": 14,
   "metadata": {},
   "outputs": [
    {
     "name": "stdout",
     "output_type": "stream",
     "text": [
      " spring-messaging/src/main/java/org/springframework/messaging/simp/broker/DefaultSubscriptionRegistry.java: 50 \n",
      " spring-messaging/src/main/java/org/springframework/messaging/simp/broker/SimpleBrokerMessageHandler.java: 56 \n",
      " spring-messaging/src/main/java/org/springframework/messaging/simp/config/SimpleBrokerRegistration.java: 14 \n",
      " spring-messaging/src/test/java/org/springframework/messaging/simp/broker/DefaultSubscriptionRegistryTests.java: 30 \n",
      " spring-websocket/src/main/java/org/springframework/web/socket/config/MessageBrokerBeanDefinitionParser.java: 70 \n",
      " spring-websocket/src/main/resources/org/springframework/web/socket/config/spring-websocket-4.3.xsd: 37 \n",
      " spring-websocket/src/test/java/org/springframework/web/socket/config/MessageBrokerBeanDefinitionParserTests.java: 72 \n",
      " spring-websocket/src/test/resources/org/springframework/web/socket/config/websocket-config-broker-simple.xml: 21 \n",
      "43\n"
     ]
    }
   ],
   "source": [
    "sum_time = 0\n",
    "count = 0\n",
    "# implement code\n",
    "for line in repo.git.diff(\"--name-only\", fixing_commit, previous).splitlines():\n",
    "    count = count + 1;\n",
    "    times = repo.git.log(\"--follow\", \"--pretty=oneline\", \"--\", line).splitlines();\n",
    "    sum_time = sum_time + len(times)\n",
    "    print(\" %s: %d \" %(line, len(times)))\n",
    "\n",
    "avg = sum_time / count\n",
    "print(\"%d\" %avg)"
   ]
  },
  {
   "cell_type": "markdown",
   "metadata": {},
   "source": [
    "# Question j: Which developers have modified each affected file since its creation? "
   ]
  },
  {
   "cell_type": "code",
   "execution_count": 16,
   "metadata": {},
   "outputs": [
    {
     "name": "stdout",
     "output_type": "stream",
     "text": [
      " spring-messaging/src/main/java/org/springframework/messaging/simp/broker/DefaultSubscriptionRegistry.java\n",
      " Phillip Webb\n",
      " Stephane Nicoll\n",
      " igor-suhorukov\n",
      " Sebastien Deleuze\n",
      " Rossen Stoyanchev\n",
      " Spring Operator\n",
      " Juergen Hoeller\n",
      " Alexander Riss\n",
      " Bao Tran\n",
      " spring-messaging/src/main/java/org/springframework/messaging/simp/broker/SimpleBrokerMessageHandler.java\n",
      " Phillip Webb\n",
      " Andy Wilkinson\n",
      " Stephane Nicoll\n",
      " Christoph Dreis\n",
      " Eric Dahl\n",
      " Rossen Stoyanchev\n",
      " Sebastien Deleuze\n",
      " Alan Hong\n",
      " Spring Operator\n",
      " Brian Clozel\n",
      " Juergen Hoeller\n",
      " Alexander Riss\n",
      " spring-messaging/src/main/java/org/springframework/messaging/simp/config/SimpleBrokerRegistration.java\n",
      " Phillip Webb\n",
      " Rossen Stoyanchev\n",
      " Sebastien Deleuze\n",
      " Spring Operator\n",
      " Brian Clozel\n",
      " Juergen Hoeller\n",
      " spring-messaging/src/test/java/org/springframework/messaging/simp/broker/DefaultSubscriptionRegistryTests.java\n",
      " Phillip Webb\n",
      " Phil Webb\n",
      " Rossen Stoyanchev\n",
      " Sebastien Deleuze\n",
      " Spring Operator\n",
      " Sam Brannen\n",
      " Juergen Hoeller\n",
      " spring-websocket/src/main/java/org/springframework/web/socket/config/MessageBrokerBeanDefinitionParser.java\n",
      " Phillip Webb\n",
      " Stephane Nicoll\n",
      " Sebastien Deleuze\n",
      " Rossen Stoyanchev\n",
      " Сергей Цыпанов\n",
      " Spring Operator\n",
      " Brian Clozel\n",
      " Sam Brannen\n",
      " Juergen Hoeller\n",
      " spring-websocket/src/main/resources/org/springframework/web/socket/config/spring-websocket-4.3.xsd\n",
      " Stephane Nicoll\n",
      " Rossen Stoyanchev\n",
      " Sebastien Deleuze\n",
      " Brian Clozel\n",
      " Juergen Hoeller\n",
      " Sam Brannen\n",
      " Johnny Lim\n",
      " spring-websocket/src/test/java/org/springframework/web/socket/config/MessageBrokerBeanDefinitionParserTests.java\n",
      " Phillip Webb\n",
      " Rob Winch\n",
      " Artem Bilan\n",
      " Stephane Nicoll\n",
      " Rossen Stoyanchev\n",
      " Sebastien Deleuze\n",
      " Spring Operator\n",
      " Hanope\n",
      " Sam Brannen\n",
      " Juergen Hoeller\n",
      " Brian Clozel\n",
      " Philippe Marschall\n",
      " spring-websocket/src/test/resources/org/springframework/web/socket/config/websocket-config-broker-simple.xml\n",
      " Rob Winch\n",
      " Rossen Stoyanchev\n",
      " Sebastien Deleuze\n",
      " Spring Operator\n",
      " Sam Brannen\n",
      " Juergen Hoeller\n",
      "8.5\n"
     ]
    }
   ],
   "source": [
    "# implement code\n",
    "count = 0\n",
    "for line in repo.git.diff(\"--name-only\", fixing_commit, previous).splitlines():\n",
    "    print(\" %s\"%line)\n",
    "    authors = repo.git.log(\"--follow\", \"--pretty=%aN\", \"--\", line).splitlines()\n",
    "    for author in set(authors): # set for not repeating the same author\n",
    "        print(\" %s\" %author)\n",
    "        count = count + 1;\n",
    "\n",
    "avg = count / len(affected_file)\n",
    "print(\"%.1f\" %avg)"
   ]
  },
  {
   "cell_type": "markdown",
   "metadata": {},
   "source": [
    "# Question k:"
   ]
  },
  {
   "cell_type": "code",
   "execution_count": 15,
   "metadata": {},
   "outputs": [
    {
     "name": "stdout",
     "output_type": "stream",
     "text": [
      " Rob Winch: 86\n",
      " igor-suhorukov: 39\n",
      " Eric Dahl: 1\n",
      " Rossen Stoyanchev: 3309\n",
      " Bao Tran: 1\n",
      " Phillip Webb: 607\n",
      " Sebastien Deleuze: 726\n",
      " Spring Operator: 8\n",
      " Hanope: 1\n",
      " Phil Webb: 1\n",
      " Сергей Цыпанов: 10\n",
      " Alan Hong: 1\n",
      " Juergen Hoeller: 5977\n",
      " Sam Brannen: 2448\n",
      " Alexander Riss: 1\n",
      " Johnny Lim: 42\n",
      " Philippe Marschall: 22\n",
      " Artem Bilan: 2\n",
      " Andy Wilkinson: 45\n",
      " Stephane Nicoll: 766\n",
      " Christoph Dreis: 13\n",
      " Brian Clozel: 550\n",
      "22\n"
     ]
    }
   ],
   "source": [
    "# implement code\n",
    "allAuthors = []\n",
    "count = 0\n",
    "for line in repo.git.diff(\"--name-only\", fixing_commit, previous).splitlines():\n",
    "    allAuthors += repo.git.log(\"--follow\", \"--pretty=%aN\", \"--\", line).splitlines()\n",
    "allAuthors = list(set(allAuthors))\n",
    "log = repo.git.log(\"--pretty=%aN\")\n",
    "for author in allAuthors:\n",
    "    count = count + 1\n",
    "    print(\" %s: %d\" %(author, len(re.findall(author, log))))\n",
    "    \n",
    "print(\"%d\" %count)"
   ]
  },
  {
   "cell_type": "code",
   "execution_count": null,
   "metadata": {},
   "outputs": [],
   "source": []
  }
 ],
 "metadata": {
  "kernelspec": {
   "display_name": "Python 3",
   "language": "python",
   "name": "python3"
  },
  "language_info": {
   "codemirror_mode": {
    "name": "ipython",
    "version": 3
   },
   "file_extension": ".py",
   "mimetype": "text/x-python",
   "name": "python",
   "nbconvert_exporter": "python",
   "pygments_lexer": "ipython3",
   "version": "3.7.4"
  }
 },
 "nbformat": 4,
 "nbformat_minor": 2
}
